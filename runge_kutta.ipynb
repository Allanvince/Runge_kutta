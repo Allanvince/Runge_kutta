{
 "cells": [
  {
   "attachments": {},
   "cell_type": "markdown",
   "metadata": {},
   "source": [
    "# RUNGE_KUTTA SECOND ORDER\n",
    "\n",
    "\n",
    "The Runge-Kutta method finds an approximate value of $y$ for a given $x$.\n",
    "\n",
    "\n",
    "Only first-order ordinary differential equations can be solved by using the Runge Kutta 2nd order method.\n",
    "\n",
    "\n",
    "1. Below is the formula used to compute next value $y_{n+1}$ from previous value $y_{n}$:\n",
    "\n",
    "    $y_{n+1} =$ value of y at $(x = n + 1)$\n",
    "\n",
    "    $y_{n} =$ value of y at $(x = n)$ where:\n",
    "\n",
    "    $0 ≤ n ≤ (x - x_{0})/h$\n",
    "\n",
    "    h  is  step  height\n",
    "    \n",
    "    $x_{n+1} = x_{0} + h$\n",
    "\n",
    "\n",
    "\n",
    "2. The essential formula to compute the value of $y(n+1)$:\n",
    "\n",
    "    $K_{1} = h*f(x_{n}, y_{n})$\n",
    "\n",
    "    $K_{2} = h*f((x_{n} + \\frac{h}{2}), (y_{n} + \\frac{K_{1}*h}{2}))$\n",
    "    \n",
    "    $y_{n+1} = y_{n} + K_{2} + (h^{3})$\n",
    "\n",
    "\n",
    ">The formula basically computes the next value $y_{n+1}$ using current yn plus the weighted average of two increments: \n",
    "\n",
    "\n",
    ">K1 is the increment based on the slope at the beginning of the interval, using $y$.\n",
    "\n",
    "\n",
    ">K2 is the increment based on the slope at the midpoint of the interval, using $(y + h*K1/2)$.\n",
    "\n",
    "\n",
    ">The method is a second-order method, meaning that the local truncation error is on the order of $O(h3)$, while the total accumulated error is order $O(h4)$."
   ]
  },
  {
   "cell_type": "markdown",
   "metadata": {},
   "source": []
  },
  {
   "cell_type": "code",
   "execution_count": 1,
   "metadata": {},
   "outputs": [
    {
     "name": "stdout",
     "output_type": "stream",
     "text": [
      "y(x) = 0.6455901672629244\n",
      "Time taken: 1.200009137392044e-06seconds.\n"
     ]
    }
   ],
   "source": [
    "from timeit import Timer\n",
    "def dydx(x, y) :\n",
    "\n",
    "\treturn (x + y - 2);\n",
    "def rungeKutta(x0, y0, x, h) :\n",
    "\n",
    "\tn = round((x - x0) / h);\n",
    "\t\n",
    "\ty = y0;\n",
    "\t\n",
    "\tfor i in range(1, n + 1) :\n",
    "\t\t\n",
    "\t\tk1 = h * dydx(x0, y);\n",
    "\t\tk2 = h * dydx(x0 + 0.5 * h, y + 0.5 * k1);\n",
    "\n",
    "\t\ty = y + (1.0 / 6.0) * (k1 + 2 * k2);\n",
    "\n",
    "\t\tx0 = x0 + h;\n",
    "\n",
    "\treturn y;\n",
    "\n",
    "if __name__ == \"__main__\" :\n",
    "\n",
    "\tx0 = 0; y = 1;\n",
    "\tx = 2; h = 0.2;\n",
    "\n",
    "\tprint(\"y(x) =\",rungeKutta(x0, y, x, h));\n",
    "t = Timer(\"rungeKutta\", \"from __main__ import rungeKutta\")\n",
    "print(\"Time taken: \" +str(t.timeit(1))+ \"seconds.\")\n"
   ]
  }
 ],
 "metadata": {
  "kernelspec": {
   "display_name": "Python 3",
   "language": "python",
   "name": "python3"
  },
  "language_info": {
   "codemirror_mode": {
    "name": "ipython",
    "version": 3
   },
   "file_extension": ".py",
   "mimetype": "text/x-python",
   "name": "python",
   "nbconvert_exporter": "python",
   "pygments_lexer": "ipython3",
   "version": "3.11.1"
  },
  "orig_nbformat": 4
 },
 "nbformat": 4,
 "nbformat_minor": 2
}
