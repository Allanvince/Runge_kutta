{
 "cells": [
  {
   "cell_type": "markdown",
   "id": "104a44a2",
   "metadata": {},
   "source": [
    "# 4th order RUNGE-KUTTA\n",
    "It finds an approximaation of  y for a given x.\n",
    "\n",
    "It works by appoximating the solution of an ODE at discrete step using weighted average \n",
    "\n",
    "of function evaluations at multiple intermediate points between those time steps.\n",
    "\n",
    "The RK4 is the most common variant method due to its high accuracy and computational efficiency.\n",
    "\n",
    "## General Form\n",
    "\n",
    "$y_{n+1}=y_{n}+h*(k_{1}+2*K_{2}+2*k_{3}+k_{4})$\n",
    "\n",
    "The values of $K_{i}$ are calculated as follows:\n",
    "\n",
    "$k_{1}=f(t_{n},y_{n})$\n",
    "\n",
    "$k_{2}=f(t_{n}+(h/2),y_{n}+(h/2)*k_{1})$\n",
    "\n",
    "$k_{3}=f(t_{n}+(h/2),y_{n}+(h/2)*k_{1})$\n",
    "\n",
    "$k_{}=f(t_{n}+(h/2),y_{n}+(h/2)*k_{1})$\n",
    "\n",
    "f() is the function that defines the ODE\n",
    "\n",
    "## Pseudocode\n",
    "\n",
    "1. input initial values:t0,y0,h,T\n",
    "2. Set t_{n}=t0 and y_{n}=y0\n",
    "3. While t_{n}<T:\n",
    "\n",
    "      a. Calculate K1:$k_{1}=f(t_{n},y_{n})$\n",
    "      \n",
    "      b. Calculate K2:$k_{2}=f(t_{n}+(h/2),y_{n}+(h/2)*k_{1})$\n",
    "      \n",
    "      c. Calculate K3:$k_{3}=f(t_{n}+(h/2),y_{n}+(h/2)*k_{1})$\n",
    "      \n",
    "      d. Calculate K4:$k_{}=f(t_{n}+(h/2),y_{n}+(h/2)*k_{1})$\n",
    "4. Calculate $y_{n+1}=y_{n}+(h/6)*(k_{1}+2*K_{2}+2*k_{3}+k_{4})$\n",
    "5. Set $t_{n}=t_{n}+h$\n",
    "6. Output final value of y(t)\n",
    "\n",
    "## Python code is Below\n",
    "\n",
    "\n"
   ]
  },
  {
   "cell_type": "code",
   "execution_count": 18,
   "id": "329e863c",
   "metadata": {},
   "outputs": [],
   "source": [
    "import math\n",
    "import matplotlib.pyplot as plt\n",
    "def runge_kutta(f,y0,t0,h,T):\n",
    "    y=[y0]\n",
    "    t=[t0]\n",
    "    yn=y0\n",
    "    tn=t0\n",
    "    while tn<T:\n",
    "        k1=f(tn,yn)\n",
    "        k2=f(tn+(h/2),yn+(h/2)*k1)\n",
    "        k3=f(tn+(h/2),yn+(h/2)*k2)\n",
    "        k4=f(tn+(h/2),yn+h*k3)\n",
    "        yn1=yn+(h/6)*(k1+2*k2+2*k3*k4)\n",
    "        tn+=h\n",
    "        yn=yn1\n",
    "        y.append(yn)\n",
    "        t.append(tn)\n",
    "    return y,t\n",
    "        "
   ]
  },
  {
   "cell_type": "code",
   "execution_count": 19,
   "id": "26aa343b",
   "metadata": {},
   "outputs": [],
   "source": [
    "def my_ode(t,y):\n",
    "    return math.sin(t)**2*y"
   ]
  },
  {
   "cell_type": "code",
   "execution_count": 20,
   "id": "1e90c56f",
   "metadata": {},
   "outputs": [
    {
     "name": "stdout",
     "output_type": "stream",
     "text": [
      "[1, 1.010855125242446, 1.1650446135955916, 1.8039059427942519, 3.3965299191968015, 5.175843609664538, 5.573192185097481, 5.5940845604357685, 6.675745483795115, 16.75234400639275, 122.52768254577003]\n"
     ]
    }
   ],
   "source": [
    "t0=0\n",
    "y0=1\n",
    "h=0.5\n",
    "T=5\n",
    "# call the runge-kutta function\n",
    "y,t=runge_kutta(my_ode,y0,t0,h,T)\n",
    "print(y)"
   ]
  },
  {
   "cell_type": "code",
   "execution_count": 21,
   "id": "4b108a1e",
   "metadata": {},
   "outputs": [
    {
     "name": "stdout",
     "output_type": "stream",
     "text": [
      "[0, 0.5, 1.0, 1.5, 2.0, 2.5, 3.0, 3.5, 4.0, 4.5, 5.0]\n"
     ]
    }
   ],
   "source": [
    "print(t)"
   ]
  },
  {
   "cell_type": "code",
   "execution_count": 24,
   "id": "e08cedca",
   "metadata": {},
   "outputs": [
    {
     "data": {
      "text/plain": [
       "[<matplotlib.lines.Line2D at 0x2363c135bb0>]"
      ]
     },
     "execution_count": 24,
     "metadata": {},
     "output_type": "execute_result"
    },
    {
     "data": {
      "image/png": "[encoded data removed]",
      "text/plain": [
       "<Figure size 432x288 with 1 Axes>"
      ]
     },
     "metadata": {
      "needs_background": "light"
     },
     "output_type": "display_data"
    }
   ],
   "source": [
    "plt.plot(t,y,color=\"green\",marker='o',linewidth=0.0,label='RK4')"
   ]
  },
  {
   "cell_type": "markdown",
   "id": "f8065f37",
   "metadata": {},
   "source": []
  }
 ],
 "metadata": {
  "kernelspec": {
   "display_name": "Python 3 (ipykernel)",
   "language": "python",
   "name": "python3"
  },
  "language_info": {
   "codemirror_mode": {
    "name": "ipython",
    "version": 3
   },
   "file_extension": ".py",
   "mimetype": "text/x-python",
   "name": "python",
   "nbconvert_exporter": "python",
   "pygments_lexer": "ipython3",
   "version": "3.9.7"
  }
 },
 "nbformat": 4,
 "nbformat_minor": 5
}
