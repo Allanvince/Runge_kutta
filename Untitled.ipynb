{
 "cells": [
  {
   "cell_type": "markdown",
   "id": "a071c5d0",
   "metadata": {},
   "source": [
    "# 4th order\n",
    "$k_{1}$\n"
   ]
  },
  {
   "cell_type": "code",
   "execution_count": 1,
   "id": "93a0b8db",
   "metadata": {},
   "outputs": [],
   "source": [
    "def runge_kutta(f,y0,t0,h,T):\n",
    "    y=[y0]\n",
    "    t=[t0]\n",
    "    yn=y0\n",
    "    tn=t0\n",
    "    while tn<T:\n",
    "        k1=f(tn,yn)\n",
    "        k2=f(tn+(h/2),yn+(h/2)*k1)\n",
    "        k3=f(tn+(h/2),yn+(h/2)*k2)\n",
    "        k4=f(tn+(h/2),yn+h*k3)\n",
    "        yn1=yn+(h/6)*(k1+2*k2+2*k3*k4)\n",
    "        tn+=h\n",
    "        yn=yn1\n",
    "        y.append(yn)\n",
    "        t.append(tn)\n",
    "    return y,t\n",
    "        "
   ]
  },
  {
   "cell_type": "code",
   "execution_count": 9,
   "id": "e02a6135",
   "metadata": {},
   "outputs": [],
   "source": [
    "def my_ode(t,y):\n",
    "    dydt=-2*y #the function\n",
    "    return dydt"
   ]
  },
  {
   "cell_type": "code",
   "execution_count": 12,
   "id": "8f0dad3b",
   "metadata": {},
   "outputs": [
    {
     "name": "stdout",
     "output_type": "stream",
     "text": [
      "[1, -86.33333333333333, -656047.0]\n"
     ]
    }
   ],
   "source": [
    "t0=0\n",
    "y0=1\n",
    "h=2\n",
    "T=3\n",
    "# call the runge-kutta function\n",
    "y,t=runge_kutta(my_ode,y0,t0,h,T)\n",
    "print(y)"
   ]
  },
  {
   "cell_type": "code",
   "execution_count": 11,
   "id": "92f9a428",
   "metadata": {},
   "outputs": [
    {
     "name": "stdout",
     "output_type": "stream",
     "text": [
      "[0, 2, 4]\n"
     ]
    }
   ],
   "source": [
    "print(t)"
   ]
  },
  {
   "cell_type": "code",
   "execution_count": null,
   "id": "303dea75",
   "metadata": {},
   "outputs": [],
   "source": []
  }
 ],
 "metadata": {
  "kernelspec": {
   "display_name": "Python 3 (ipykernel)",
   "language": "python",
   "name": "python3"
  },
  "language_info": {
   "codemirror_mode": {
    "name": "ipython",
    "version": 3
   },
   "file_extension": ".py",
   "mimetype": "text/x-python",
   "name": "python",
   "nbconvert_exporter": "python",
   "pygments_lexer": "ipython3",
   "version": "3.9.7"
  }
 },
 "nbformat": 4,
 "nbformat_minor": 5
}
