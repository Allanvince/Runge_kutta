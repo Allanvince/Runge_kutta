{
 "cells": [
  {
   "attachments": {},
   "cell_type": "markdown",
   "metadata": {},
   "source": [
    "# First Order Runge-Kuttah Method (Eular Method)\n",
    "\n",
    "This is a numerical method for solving first-order ordinary differential equations. It is a simple and straightforward method that approximates the solution at discrete points by taking a single step of size h.\n",
    "\n",
    "It uses the following formular: $y(x+h)=y(x)+hf(x,y)$ to construct the tangent at the point $x$ and obtain the value of $y(x+h)$ whose slope is:\n",
    "\n",
    "$ f(x,y)$ or simply, $\\frac{dy}{dx}$\n",
    "\n",
    "### General formula\n",
    "\n",
    "$ y_{i+1}=y_{i}+hf(x_{i},y_{i})$\n",
    "\n",
    "where:\n",
    "\n",
    " $y_{i+1}$ $\\text {is the next estimated solution value}$\n",
    " \n",
    " $y_{i}$ is the current value\n",
    "\n",
    " $h$ is the interval between the steps\n",
    "\n",
    " $f(x_{i},y_{i})$ is the value of the derivative at the current $(x_{i},y_{i})$ point\n"
   ]
  },
  {
   "attachments": {},
   "cell_type": "markdown",
   "metadata": {},
   "source": [
    "### Steps of solving the First order Runge-Kuttah method\n",
    "\n",
    "1. Consider the problem: $ y' =f(x,y), y(x_{o})=y_{o}$ where $f(x,y)$ is a function of $x$ and $y$ that defines the derivtives of $y$ with respect to $x$ and $y_{o}$ is the initial value of $y$ at $x=x_{o}$\n",
    "2. Choose the step size $h$ and determine the points at which to approximate the soln. e.g approximating soln at $x_{1}=x_{o}+h$, then we need to calculate the value of $y_{1}=y(x_{1})$\n",
    "3. Calculate the slope of the tangent line at the initial point $(x_{0}, y_{o})$, using the function $f(x, y)$. This is given by:\n",
    "\n",
    "    $ k_{1}=f(x_{o},y_{o})$\n",
    "4. Use this slope to approximate the value of $y_{1}$, by taking a step of size h in the direction of the tangent line:\n",
    "\n",
    "    $y_{1}=y_{o}+h*k_{1}$\n",
    "5. The approximate solution at $x_{1}$ is $y_{1}$. Repeat the above steps to obtain the approximate solution at additional points."
   ]
  },
  {
   "attachments": {},
   "cell_type": "markdown",
   "metadata": {},
   "source": [
    "### Example\n",
    "Solve $y'=x+y, y(0)=1, for\\hspace{0.1cm} x= 0,0.1,0.2,0.3\\hspace{0.1cm} and\\hspace{0.1cm} 0.4 \\hspace{0.1cm}with \\hspace{0.1cm}step \\hspace{0.1cm}size\\hspace{0.1cm} of\\hspace{0.1cm} h=0.1 .$\n",
    "1. k1 = f(x0, y0) = f(0, 1) = 1\n",
    "\n",
    "    y1 = y0 + h * k1 = 1 + 0.1 * 1 = 1.1\n",
    "2. k2 = f(x1, y1) = f(0.1, 1.1) = 1.21\n",
    "\n",
    "    y2 = y1 + h * k2 = 1.1 + 0.1 * 1.21 = 1.22\n",
    "3. k3 = f(x2, y2) = f(0.2, 1.22) = 1.44\n",
    "\n",
    "    y3 = y2 + h * k3 = 1.22 + 0.1 * 1.44 = 1.366\n",
    "4. k4 = f(x3, y3) = f(0.3, 1.366) = 1.736\n",
    "\n",
    "    y4 = y3 + h * k4 = 1.366 + 0.1 * 1.736 = 1.54\n",
    "5. k5 = f(x4, y4) = f(0.4, 1.54) = 2.14\n",
    "\n",
    "    y5 = y4 + h * k5 = 1.54 + 0.1 * 2.14 = 1.754\n",
    "\n",
    "Thus, the approximate solution at x = 0.4 is y = 1.754.\n"
   ]
  },
  {
   "cell_type": "code",
   "execution_count": 1,
   "metadata": {},
   "outputs": [],
   "source": [
    "import numpy as np\n",
    "import matplotlib.pyplot as plt"
   ]
  },
  {
   "cell_type": "code",
   "execution_count": 3,
   "metadata": {},
   "outputs": [
    {
     "data": {
      "image/png": "[encoded data removed]",
      "text/plain": [
       "<Figure size 640x480 with 1 Axes>"
      ]
     },
     "metadata": {},
     "output_type": "display_data"
    },
    {
     "data": {
      "text/plain": [
       "array([0. , 0.1, 0.2, 0.3, 0.4, 0.5, 0.6, 0.7, 0.8, 0.9, 1. ])"
      ]
     },
     "execution_count": 3,
     "metadata": {},
     "output_type": "execute_result"
    }
   ],
   "source": [
    "def f(x, y):\n",
    "    return 2*x + y\n",
    "\n",
    "x0 = 0\n",
    "y0 = 1\n",
    "\n",
    "h = 0.1\n",
    "num_steps = 10\n",
    "\n",
    "x = np.zeros(num_steps+1)\n",
    "y = np.zeros(num_steps+1)\n",
    "\n",
    "x[0] = x0\n",
    "y[0] = y0\n",
    "\n",
    "for i in range(num_steps):\n",
    "    k1 = h * f(x[i], y[i])\n",
    "    x[i+1] = x[i] + h\n",
    "    y[i+1] = y[i] + k1\n",
    "\n",
    "# Plot the solution\n",
    "plt.plot(x, y)\n",
    "plt.xlabel('x')\n",
    "plt.ylabel('y')\n",
    "plt.title('Solution using Euler\\'s method')\n",
    "plt.show()\n"
   ]
  },
  {
   "cell_type": "code",
   "execution_count": 6,
   "metadata": {},
   "outputs": [
    {
     "name": "stdout",
     "output_type": "stream",
     "text": [
      "step values of x:[0.  0.1 0.2 0.3 0.4 0.5 0.6 0.7 0.8 0.9 1. ]\n",
      "y values:[1.         1.1        1.23       1.393      1.5923     1.83153\n",
      " 2.114683   2.4461513  2.83076643 3.27384307 3.78122738]\n"
     ]
    }
   ],
   "source": [
    "print(f'step values of x:{x}')\n",
    "print(f'y values:{y}')"
   ]
  }
 ],
 "metadata": {
  "kernelspec": {
   "display_name": "Python 3",
   "language": "python",
   "name": "python3"
  },
  "language_info": {
   "codemirror_mode": {
    "name": "ipython",
    "version": 3
   },
   "file_extension": ".py",
   "mimetype": "text/x-python",
   "name": "python",
   "nbconvert_exporter": "python",
   "pygments_lexer": "ipython3",
   "version": "3.10.6"
  },
  "orig_nbformat": 4,
  "vscode": {
   "interpreter": {
    "hash": "916dbcbb3f70747c44a77c7bcd40155683ae19c65e1c03b4aa3499c5328201f1"
   }
  }
 },
 "nbformat": 4,
 "nbformat_minor": 2
}
